{
 "cells": [
  {
   "cell_type": "code",
   "execution_count": 2,
   "metadata": {},
   "outputs": [],
   "source": [
    "import pandas as pd\n",
    "import numpy as np"
   ]
  },
  {
   "cell_type": "code",
   "execution_count": 3,
   "metadata": {},
   "outputs": [],
   "source": [
    "# Rolling window"
   ]
  },
  {
   "cell_type": "code",
   "execution_count": 4,
   "metadata": {},
   "outputs": [],
   "source": [
    "# Generic rolling windows support specifying windows as a fixed number of observations or variable number of observations based on an offset. If a time based offset is provided, the corresponding time based index must be monotonic."
   ]
  },
  {
   "cell_type": "code",
   "execution_count": 5,
   "metadata": {},
   "outputs": [],
   "source": [
    "times = ['2020-01-01', '2020-01-03', '2020-01-04', '2020-01-05', '2020-01-29']"
   ]
  },
  {
   "cell_type": "code",
   "execution_count": 6,
   "metadata": {},
   "outputs": [
    {
     "data": {
      "text/plain": [
       "2020-01-01    NaN\n",
       "2020-01-03    1.0\n",
       "2020-01-04    3.0\n",
       "2020-01-05    5.0\n",
       "2020-01-29    7.0\n",
       "dtype: float64"
      ]
     },
     "execution_count": 6,
     "metadata": {},
     "output_type": "execute_result"
    }
   ],
   "source": [
    "s = pd.Series(range(5), index=pd.DatetimeIndex(times))\n",
    "s.rolling(window=2).sum()"
   ]
  },
  {
   "cell_type": "code",
   "execution_count": 7,
   "metadata": {},
   "outputs": [],
   "source": [
    "# Window with 2 days worth of observations"
   ]
  },
  {
   "cell_type": "code",
   "execution_count": 8,
   "metadata": {},
   "outputs": [
    {
     "data": {
      "text/plain": [
       "2020-01-01    0.0\n",
       "2020-01-03    1.0\n",
       "2020-01-04    3.0\n",
       "2020-01-05    5.0\n",
       "2020-01-29    4.0\n",
       "dtype: float64"
      ]
     },
     "execution_count": 8,
     "metadata": {},
     "output_type": "execute_result"
    }
   ],
   "source": [
    "s.rolling(window='2D').sum()"
   ]
  },
  {
   "cell_type": "code",
   "execution_count": 9,
   "metadata": {},
   "outputs": [],
   "source": [
    "# Centering windows"
   ]
  },
  {
   "cell_type": "code",
   "execution_count": 10,
   "metadata": {},
   "outputs": [],
   "source": [
    "# By default the labels are set to the right edge of the window, but a center keyword is available so the labels can be set at the center."
   ]
  },
  {
   "cell_type": "code",
   "execution_count": 11,
   "metadata": {},
   "outputs": [
    {
     "data": {
      "text/plain": [
       "0    NaN\n",
       "1    NaN\n",
       "2    2.0\n",
       "3    3.0\n",
       "4    4.0\n",
       "5    5.0\n",
       "6    6.0\n",
       "7    7.0\n",
       "8    NaN\n",
       "9    NaN\n",
       "dtype: float64"
      ]
     },
     "execution_count": 11,
     "metadata": {},
     "output_type": "execute_result"
    }
   ],
   "source": [
    "\n",
    "s = pd.Series(range(10))\n",
    "\n",
    "s.rolling(window=5).mean()\n",
    "s.rolling(window=5, center=True).mean()"
   ]
  },
  {
   "cell_type": "code",
   "execution_count": 12,
   "metadata": {},
   "outputs": [
    {
     "data": {
      "text/html": [
       "<div>\n",
       "<style scoped>\n",
       "    .dataframe tbody tr th:only-of-type {\n",
       "        vertical-align: middle;\n",
       "    }\n",
       "\n",
       "    .dataframe tbody tr th {\n",
       "        vertical-align: top;\n",
       "    }\n",
       "\n",
       "    .dataframe thead th {\n",
       "        text-align: right;\n",
       "    }\n",
       "</style>\n",
       "<table border=\"1\" class=\"dataframe\">\n",
       "  <thead>\n",
       "    <tr style=\"text-align: right;\">\n",
       "      <th></th>\n",
       "      <th>A</th>\n",
       "    </tr>\n",
       "  </thead>\n",
       "  <tbody>\n",
       "    <tr>\n",
       "      <th>2020-01-01</th>\n",
       "      <td>0.0</td>\n",
       "    </tr>\n",
       "    <tr>\n",
       "      <th>2020-01-02</th>\n",
       "      <td>0.5</td>\n",
       "    </tr>\n",
       "    <tr>\n",
       "      <th>2020-01-03</th>\n",
       "      <td>1.5</td>\n",
       "    </tr>\n",
       "    <tr>\n",
       "      <th>2020-01-04</th>\n",
       "      <td>2.5</td>\n",
       "    </tr>\n",
       "    <tr>\n",
       "      <th>2020-01-05</th>\n",
       "      <td>3.5</td>\n",
       "    </tr>\n",
       "  </tbody>\n",
       "</table>\n",
       "</div>"
      ],
      "text/plain": [
       "              A\n",
       "2020-01-01  0.0\n",
       "2020-01-02  0.5\n",
       "2020-01-03  1.5\n",
       "2020-01-04  2.5\n",
       "2020-01-05  3.5"
      ]
     },
     "execution_count": 12,
     "metadata": {},
     "output_type": "execute_result"
    }
   ],
   "source": [
    "df = pd.DataFrame(\n",
    "    {\"A\": [0, 1, 2, 3, 4]}, index=pd.date_range(\"2020\", periods=5, freq=\"1D\")\n",
    ")\n",
    "df.rolling(\"2D\", center=False).mean()\n"
   ]
  },
  {
   "cell_type": "code",
   "execution_count": 13,
   "metadata": {},
   "outputs": [
    {
     "data": {
      "text/html": [
       "<div>\n",
       "<style scoped>\n",
       "    .dataframe tbody tr th:only-of-type {\n",
       "        vertical-align: middle;\n",
       "    }\n",
       "\n",
       "    .dataframe tbody tr th {\n",
       "        vertical-align: top;\n",
       "    }\n",
       "\n",
       "    .dataframe thead th {\n",
       "        text-align: right;\n",
       "    }\n",
       "</style>\n",
       "<table border=\"1\" class=\"dataframe\">\n",
       "  <thead>\n",
       "    <tr style=\"text-align: right;\">\n",
       "      <th></th>\n",
       "      <th>A</th>\n",
       "    </tr>\n",
       "  </thead>\n",
       "  <tbody>\n",
       "    <tr>\n",
       "      <th>2020-01-01</th>\n",
       "      <td>0.5</td>\n",
       "    </tr>\n",
       "    <tr>\n",
       "      <th>2020-01-02</th>\n",
       "      <td>1.5</td>\n",
       "    </tr>\n",
       "    <tr>\n",
       "      <th>2020-01-03</th>\n",
       "      <td>2.5</td>\n",
       "    </tr>\n",
       "    <tr>\n",
       "      <th>2020-01-04</th>\n",
       "      <td>3.5</td>\n",
       "    </tr>\n",
       "    <tr>\n",
       "      <th>2020-01-05</th>\n",
       "      <td>4.0</td>\n",
       "    </tr>\n",
       "  </tbody>\n",
       "</table>\n",
       "</div>"
      ],
      "text/plain": [
       "              A\n",
       "2020-01-01  0.5\n",
       "2020-01-02  1.5\n",
       "2020-01-03  2.5\n",
       "2020-01-04  3.5\n",
       "2020-01-05  4.0"
      ]
     },
     "execution_count": 13,
     "metadata": {},
     "output_type": "execute_result"
    }
   ],
   "source": [
    "df.rolling(\"2D\", center=True).mean()"
   ]
  },
  {
   "cell_type": "code",
   "execution_count": 14,
   "metadata": {},
   "outputs": [],
   "source": [
    "# Custom window rolling"
   ]
  },
  {
   "cell_type": "code",
   "execution_count": null,
   "metadata": {},
   "outputs": [],
   "source": [
    "# In addition to accepting an integer or offset as a window argument, rolling also accepts a BaseIndexer subclass that allows a user to define a custom method for calculating window bounds. The BaseIndexer subclass will need to define a get_window_bounds method that returns a tuple of two arrays, the first being the starting indices of the windows and second being the ending indices of the windows. Additionally, num_values, min_periods, center, closed and step will automatically be passed to get_window_bounds and the defined method must always accept these arguments."
   ]
  },
  {
   "cell_type": "code",
   "execution_count": 5,
   "metadata": {},
   "outputs": [
    {
     "data": {
      "text/html": [
       "<div>\n",
       "<style scoped>\n",
       "    .dataframe tbody tr th:only-of-type {\n",
       "        vertical-align: middle;\n",
       "    }\n",
       "\n",
       "    .dataframe tbody tr th {\n",
       "        vertical-align: top;\n",
       "    }\n",
       "\n",
       "    .dataframe thead th {\n",
       "        text-align: right;\n",
       "    }\n",
       "</style>\n",
       "<table border=\"1\" class=\"dataframe\">\n",
       "  <thead>\n",
       "    <tr style=\"text-align: right;\">\n",
       "      <th></th>\n",
       "      <th>values</th>\n",
       "    </tr>\n",
       "  </thead>\n",
       "  <tbody>\n",
       "    <tr>\n",
       "      <th>0</th>\n",
       "      <td>0</td>\n",
       "    </tr>\n",
       "    <tr>\n",
       "      <th>1</th>\n",
       "      <td>1</td>\n",
       "    </tr>\n",
       "    <tr>\n",
       "      <th>2</th>\n",
       "      <td>2</td>\n",
       "    </tr>\n",
       "    <tr>\n",
       "      <th>3</th>\n",
       "      <td>3</td>\n",
       "    </tr>\n",
       "    <tr>\n",
       "      <th>4</th>\n",
       "      <td>4</td>\n",
       "    </tr>\n",
       "  </tbody>\n",
       "</table>\n",
       "</div>"
      ],
      "text/plain": [
       "   values\n",
       "0       0\n",
       "1       1\n",
       "2       2\n",
       "3       3\n",
       "4       4"
      ]
     },
     "execution_count": 5,
     "metadata": {},
     "output_type": "execute_result"
    }
   ],
   "source": [
    "import pandas as pd\n",
    "df=pd.DataFrame({\"values\":range(5)})\n",
    "df"
   ]
  },
  {
   "cell_type": "code",
   "execution_count": 1,
   "metadata": {},
   "outputs": [],
   "source": [
    "use_expanding = [True, False, True, False, True]"
   ]
  },
  {
   "cell_type": "code",
   "execution_count": 15,
   "metadata": {},
   "outputs": [],
   "source": [
    "# # Rolling window endpoints\n",
    "# The inclusion of the interval endpoints in rolling window calculations can be specified with the closed parameter:\n",
    "\n",
    "# Value\n",
    "\n",
    "# Behavior\n",
    "\n",
    "# 'right'\n",
    "\n",
    "# close right endpoint\n",
    "\n",
    "# 'left'\n",
    "\n",
    "# close left endpoint\n",
    "\n",
    "# 'both'\n",
    "\n",
    "# close both endpoints\n",
    "\n",
    "# 'neither'\n",
    "\n",
    "# open endpoints"
   ]
  },
  {
   "cell_type": "code",
   "execution_count": 16,
   "metadata": {},
   "outputs": [],
   "source": [
    "# Rolling apply"
   ]
  },
  {
   "cell_type": "code",
   "execution_count": 17,
   "metadata": {},
   "outputs": [],
   "source": [
    "# The apply() function takes an extra func argument and performs generic rolling computations. The func argument should be a single function that produces a single value from an ndarray input. raw specifies whether the windows are cast as Series objects (raw=False) or ndarray objects (raw=True)."
   ]
  },
  {
   "cell_type": "code",
   "execution_count": 18,
   "metadata": {},
   "outputs": [
    {
     "data": {
      "text/plain": [
       "0    NaN\n",
       "1    NaN\n",
       "2    NaN\n",
       "3    1.0\n",
       "4    1.0\n",
       "5    1.0\n",
       "6    1.0\n",
       "7    1.0\n",
       "8    1.0\n",
       "9    1.0\n",
       "dtype: float64"
      ]
     },
     "execution_count": 18,
     "metadata": {},
     "output_type": "execute_result"
    }
   ],
   "source": [
    "def mad(x):\n",
    "    return np.fabs(x - x.mean()).mean()\n",
    "\n",
    "\n",
    "s = pd.Series(range(10))\n",
    "\n",
    "s.rolling(window=4).apply(mad, raw=True)\n"
   ]
  },
  {
   "cell_type": "code",
   "execution_count": 19,
   "metadata": {},
   "outputs": [],
   "source": [
    "# Expanding window\n",
    "# An expanding window yields the value of an aggregation statistic with all the data available up to that point in time. Since these calculations are a special case of rolling statistics, they are implemented in pandas such that the following two calls are equivalent:"
   ]
  },
  {
   "cell_type": "code",
   "execution_count": 20,
   "metadata": {},
   "outputs": [
    {
     "ename": "TypeError",
     "evalue": "NDFrame.expanding() got an unexpected keyword argument 'window'",
     "output_type": "error",
     "traceback": [
      "\u001b[1;31m---------------------------------------------------------------------------\u001b[0m",
      "\u001b[1;31mTypeError\u001b[0m                                 Traceback (most recent call last)",
      "Cell \u001b[1;32mIn[20], line 4\u001b[0m\n\u001b[0;32m      1\u001b[0m df \u001b[38;5;241m=\u001b[39m pd\u001b[38;5;241m.\u001b[39mDataFrame(\u001b[38;5;28mrange\u001b[39m(\u001b[38;5;241m5\u001b[39m))\n\u001b[0;32m      3\u001b[0m df\u001b[38;5;241m.\u001b[39mrolling(window\u001b[38;5;241m=\u001b[39m\u001b[38;5;28mlen\u001b[39m(df), min_periods\u001b[38;5;241m=\u001b[39m\u001b[38;5;241m1\u001b[39m)\u001b[38;5;241m.\u001b[39mmean()\n\u001b[1;32m----> 4\u001b[0m \u001b[43mdf\u001b[49m\u001b[38;5;241;43m.\u001b[39;49m\u001b[43mexpanding\u001b[49m\u001b[43m(\u001b[49m\u001b[43mwindow\u001b[49m\u001b[38;5;241;43m=\u001b[39;49m\u001b[38;5;28;43mlen\u001b[39;49m\u001b[43m(\u001b[49m\u001b[43mdf\u001b[49m\u001b[43m)\u001b[49m\u001b[43m,\u001b[49m\u001b[43mmin_periods\u001b[49m\u001b[38;5;241;43m=\u001b[39;49m\u001b[38;5;241;43m1\u001b[39;49m\u001b[43m)\u001b[49m\u001b[38;5;241m.\u001b[39mmean()\n",
      "\u001b[1;31mTypeError\u001b[0m: NDFrame.expanding() got an unexpected keyword argument 'window'"
     ]
    }
   ],
   "source": [
    "df = pd.DataFrame(range(5))\n",
    "\n",
    "df.rolling(window=len(df), min_periods=1).mean()\n",
    "df.expanding(window=len(df),min_periods=1).mean()\n"
   ]
  },
  {
   "cell_type": "code",
   "execution_count": null,
   "metadata": {},
   "outputs": [],
   "source": [
    "# Weighted window"
   ]
  },
  {
   "cell_type": "code",
   "execution_count": null,
   "metadata": {},
   "outputs": [],
   "source": [
    "# The win_type argument in .rolling generates a weighted windows that are commonly used in filtering and spectral estimation. win_type must be string that corresponds to a scipy.signal window function. Scipy must be installed in order to use these windows, and supplementary arguments that the Scipy window methods take must be specified in the aggregation function."
   ]
  },
  {
   "cell_type": "code",
   "execution_count": null,
   "metadata": {},
   "outputs": [],
   "source": [
    "s = pd.Series(range(10))\n",
    "s.rolling(window=5).mean()\n",
    "s.rolling(window=5, win_type=\"triang\").mean()\n",
    "s.rolling(window=5, win_type=\"gaussian\").mean(std=0.1)\n",
    "\n"
   ]
  },
  {
   "cell_type": "code",
   "execution_count": null,
   "metadata": {},
   "outputs": [],
   "source": [
    "# Expanding window"
   ]
  },
  {
   "cell_type": "code",
   "execution_count": null,
   "metadata": {},
   "outputs": [],
   "source": [
    "# Rolling apply\n",
    "# The apply() function takes an extra func argument and performs generic rolling computations. The func argument should be a single function that produces a single value from an ndarray input. raw specifies whether the windows are cast as Series objects (raw=False) or ndarray objects (raw=True)."
   ]
  },
  {
   "cell_type": "code",
   "execution_count": null,
   "metadata": {},
   "outputs": [],
   "source": [
    "def mad(x):\n",
    "    return np.fabs(x - x.mean()).mean()\n",
    "\n",
    "\n",
    "s = pd.Series(range(10))\n",
    "\n",
    "s.rolling(window=4).apply(mad, raw=True)"
   ]
  },
  {
   "cell_type": "code",
   "execution_count": null,
   "metadata": {},
   "outputs": [],
   "source": [
    "# pandas.core.window.expanding.Expanding.min\n",
    "# Expanding.min(numeric_only=False, engine=None, engine_kwargs=None)[source]\n",
    "# Calculate the expanding minimum.\n",
    "\n",
    "# Parameters:\n",
    "# numeric_onlybool, default False\n",
    "# Include only float, int, boolean columns.\n",
    "\n",
    "# New in version 1.5.0.\n",
    "\n",
    "# enginestr, default None\n",
    "# 'cython' : Runs the operation through C-extensions from cython.\n",
    "\n",
    "# 'numba' : Runs the operation through JIT compiled code from numba.\n",
    "\n",
    "# None : Defaults to 'cython' or globally setting compute.use_numba\n",
    "\n",
    "# New in version 1.3.0.\n",
    "\n",
    "# engine_kwargsdict, default None\n",
    "# For 'cython' engine, there are no accepted engine_kwargs\n",
    "\n",
    "# For 'numba' engine, the engine can accept nopython, nogil and parallel dictionary keys. The values must either be True or False. The default engine_kwargs for the 'numba' engine is {'nopython': True, 'nogil': False, 'parallel': False}\n",
    "\n",
    "# New in version 1.3.0.\n",
    "\n",
    "# Returns:\n",
    "# Series or DataFrame\n",
    "# Return type is the same as the original object with np.float64 dtype."
   ]
  },
  {
   "cell_type": "code",
   "execution_count": null,
   "metadata": {},
   "outputs": [
    {
     "data": {
      "text/plain": [
       "a    2.0\n",
       "b    2.0\n",
       "c    2.0\n",
       "d    1.0\n",
       "dtype: float64"
      ]
     },
     "execution_count": 3,
     "metadata": {},
     "output_type": "execute_result"
    }
   ],
   "source": [
    "ser = pd.Series([2, 3, 4, 1], index=['a', 'b', 'c', 'd'])\n",
    "ser.expanding().min()"
   ]
  },
  {
   "cell_type": "code",
   "execution_count": null,
   "metadata": {},
   "outputs": [],
   "source": [
    "# # Expanding.count(numeric_only=False)\n",
    "# Calculate the expanding count of non NaN observations.\n",
    "\n",
    "# Returns\n",
    "# :\n",
    "# Series or DataFrame\n",
    "# Return type is the same as the original object with np.float64 dtype"
   ]
  },
  {
   "cell_type": "code",
   "execution_count": null,
   "metadata": {},
   "outputs": [
    {
     "data": {
      "text/plain": [
       "a    1.0\n",
       "b    2.0\n",
       "c    3.0\n",
       "d    4.0\n",
       "dtype: float64"
      ]
     },
     "execution_count": 23,
     "metadata": {},
     "output_type": "execute_result"
    }
   ],
   "source": [
    "ser = pd.Series([1, 2, 3, 4], index=['a', 'b', 'c', 'd'])\n",
    "ser.expanding().count()"
   ]
  },
  {
   "cell_type": "code",
   "execution_count": null,
   "metadata": {},
   "outputs": [],
   "source": [
    "# pandas.core.window.expanding.Expanding.sum\n",
    "# Expanding.sum(numeric_only=False, engine=None, engine_kwargs=None)[source]\n",
    "# Calculate the expanding sum.\n",
    "\n",
    "# Parameters:\n",
    "# numeric_onlybool, default False\n",
    "# Include only float, int, boolean columns.\n",
    "\n",
    "# New in version 1.5.0.\n",
    "\n",
    "# enginestr, default None\n",
    "# 'cython' : Runs the operation through C-extensions from cython.\n",
    "\n",
    "# 'numba' : Runs the operation through JIT compiled code from numba.\n",
    "\n",
    "# None : Defaults to 'cython' or globally setting compute.use_numba\n",
    "\n",
    "# New in version 1.3.0.\n",
    "\n",
    "# engine_kwargsdict, default None\n",
    "# For 'cython' engine, there are no accepted engine_kwargs\n",
    "\n",
    "# For 'numba' engine, the engine can accept nopython, nogil and parallel dictionary keys. The values must either be True or False. The default engine_kwargs for the 'numba' engine is {'nopython': True, 'nogil': False, 'parallel': False}\n",
    "\n",
    "# New in version 1.3.0.\n",
    "\n",
    "# Returns:\n",
    "# Series or DataFrame\n",
    "# Return type is the same as the original object with np.float64 dtype."
   ]
  },
  {
   "cell_type": "code",
   "execution_count": null,
   "metadata": {},
   "outputs": [
    {
     "data": {
      "text/plain": [
       "a     1.0\n",
       "b     3.0\n",
       "c     6.0\n",
       "d    10.0\n",
       "dtype: float64"
      ]
     },
     "execution_count": 24,
     "metadata": {},
     "output_type": "execute_result"
    }
   ],
   "source": [
    "ser = pd.Series([1, 2, 3, 4], index=['a', 'b', 'c', 'd'])\n",
    "ser.expanding().sum()"
   ]
  },
  {
   "cell_type": "code",
   "execution_count": null,
   "metadata": {},
   "outputs": [
    {
     "data": {
      "text/plain": [
       "a    1.0\n",
       "b    1.5\n",
       "c    2.0\n",
       "d    2.5\n",
       "dtype: float64"
      ]
     },
     "execution_count": 25,
     "metadata": {},
     "output_type": "execute_result"
    }
   ],
   "source": [
    "ser = pd.Series([1, 2, 3, 4], index=['a', 'b', 'c', 'd'])\n",
    "ser.expanding().mean()"
   ]
  },
  {
   "cell_type": "code",
   "execution_count": null,
   "metadata": {},
   "outputs": [],
   "source": [
    "# pandas.core.window.expanding.Expanding.median\n",
    "# Expanding.median(numeric_only=False, engine=None, engine_kwargs=None)[source]\n",
    "# Calculate the expanding median.\n",
    "\n",
    "# Parameters:\n",
    "# numeric_onlybool, default False\n",
    "# Include only float, int, boolean columns.\n",
    "\n",
    "# New in version 1.5.0.\n",
    "\n",
    "# enginestr, default None\n",
    "# 'cython' : Runs the operation through C-extensions from cython.\n",
    "\n",
    "# 'numba' : Runs the operation through JIT compiled code from numba.\n",
    "\n",
    "# None : Defaults to 'cython' or globally setting compute.use_numba\n",
    "\n",
    "# New in version 1.3.0.\n",
    "\n",
    "# engine_kwargsdict, default None\n",
    "# For 'cython' engine, there are no accepted engine_kwargs\n",
    "\n",
    "# For 'numba' engine, the engine can accept nopython, nogil and parallel dictionary keys. The values must either be True or False. The default engine_kwargs for the 'numba' engine is {'nopython': True, 'nogil': False, 'parallel': False}\n",
    "\n",
    "# New in version 1.3.0.\n",
    "\n",
    "# Returns:\n",
    "# Series or DataFrame\n",
    "# Return type is the same as the original object with np.float64 dtype."
   ]
  },
  {
   "cell_type": "code",
   "execution_count": null,
   "metadata": {},
   "outputs": [
    {
     "data": {
      "text/plain": [
       "a    1.0\n",
       "b    1.5\n",
       "c    2.0\n",
       "d    2.5\n",
       "dtype: float64"
      ]
     },
     "execution_count": 26,
     "metadata": {},
     "output_type": "execute_result"
    }
   ],
   "source": [
    "ser = pd.Series([1, 2, 3, 4], index=['a', 'b', 'c', 'd'])\n",
    "ser.expanding().median()"
   ]
  },
  {
   "cell_type": "code",
   "execution_count": null,
   "metadata": {},
   "outputs": [],
   "source": [
    "# pandas.core.window.rolling.Rolling.count\n",
    "# Rolling.count(numeric_only=False)[source]\n",
    "# Calculate the rolling count of non NaN observations.\n",
    "\n",
    "# Parameters:\n",
    "# numeric_onlybool, default False\n",
    "# Include only float, int, boolean columns.\n",
    "\n",
    "# New in version 1.5.0.\n",
    "\n",
    "# Returns:\n",
    "# Series or DataFrame\n",
    "# Return type is the same as the original object with np.float64 dtype."
   ]
  },
  {
   "cell_type": "code",
   "execution_count": null,
   "metadata": {},
   "outputs": [
    {
     "data": {
      "text/plain": [
       "0    NaN\n",
       "1    2.0\n",
       "2    1.0\n",
       "3    1.0\n",
       "dtype: float64"
      ]
     },
     "execution_count": 27,
     "metadata": {},
     "output_type": "execute_result"
    }
   ],
   "source": [
    "s = pd.Series([2, 3, np.nan, 10])\n",
    "s.rolling(2).count()"
   ]
  },
  {
   "cell_type": "code",
   "execution_count": null,
   "metadata": {},
   "outputs": [
    {
     "data": {
      "text/plain": [
       "0   NaN\n",
       "1   NaN\n",
       "2   NaN\n",
       "3   NaN\n",
       "dtype: float64"
      ]
     },
     "execution_count": 28,
     "metadata": {},
     "output_type": "execute_result"
    }
   ],
   "source": [
    "s.rolling(3, center=True).sum()"
   ]
  },
  {
   "cell_type": "code",
   "execution_count": null,
   "metadata": {},
   "outputs": [],
   "source": [
    "# pandas.core.window.rolling.Rolling.mean\n",
    "# Rolling.mean(numeric_only=False, engine=None, engine_kwargs=None)[source]\n",
    "# Calculate the rolling mean.\n",
    "\n",
    "# Parameters:\n",
    "# numeric_onlybool, default False\n",
    "# Include only float, int, boolean columns.\n",
    "\n",
    "# New in version 1.5.0.\n",
    "\n",
    "# enginestr, default None\n",
    "# 'cython' : Runs the operation through C-extensions from cython.\n",
    "\n",
    "# 'numba' : Runs the operation through JIT compiled code from numba.\n",
    "\n",
    "# None : Defaults to 'cython' or globally setting compute.use_numba\n",
    "\n",
    "# New in version 1.3.0.\n",
    "\n",
    "# engine_kwargsdict, default None\n",
    "# For 'cython' engine, there are no accepted engine_kwargs\n",
    "\n",
    "# For 'numba' engine, the engine can accept nopython, nogil and parallel dictionary keys. The values must either be True or False. The default engine_kwargs for the 'numba' engine is {'nopython': True, 'nogil': False, 'parallel': False}\n",
    "\n",
    "# New in version 1.3.0.\n",
    "\n",
    "# Returns:\n",
    "# Series or DataFrame\n",
    "# Return type is the same as the original object with np.float64 dtype."
   ]
  },
  {
   "cell_type": "code",
   "execution_count": null,
   "metadata": {},
   "outputs": [
    {
     "data": {
      "text/plain": [
       "0    NaN\n",
       "1    1.5\n",
       "2    2.5\n",
       "3    3.5\n",
       "dtype: float64"
      ]
     },
     "execution_count": 29,
     "metadata": {},
     "output_type": "execute_result"
    }
   ],
   "source": [
    "s = pd.Series([1, 2, 3, 4])\n",
    "s.rolling(2).mean()"
   ]
  },
  {
   "cell_type": "code",
   "execution_count": null,
   "metadata": {},
   "outputs": [],
   "source": [
    "# pandas.core.window.rolling.Rolling.median\n",
    "# Rolling.median(numeric_only=False, engine=None, engine_kwargs=None)[source]\n",
    "# Calculate the rolling median.\n",
    "\n",
    "# Parameters:\n",
    "# numeric_onlybool, default False\n",
    "# Include only float, int, boolean columns.\n",
    "\n",
    "# New in version 1.5.0.\n",
    "\n",
    "# enginestr, default None\n",
    "# 'cython' : Runs the operation through C-extensions from cython.\n",
    "\n",
    "# 'numba' : Runs the operation through JIT compiled code from numba.\n",
    "\n",
    "# None : Defaults to 'cython' or globally setting compute.use_numba\n",
    "\n",
    "# New in version 1.3.0.\n",
    "\n",
    "# engine_kwargsdict, default None\n",
    "# For 'cython' engine, there are no accepted engine_kwargs\n",
    "\n",
    "# For 'numba' engine, the engine can accept nopython, nogil and parallel dictionary keys. The values must either be True or False. The default engine_kwargs for the 'numba' engine is {'nopython': True, 'nogil': False, 'parallel': False}\n",
    "\n",
    "# New in version 1.3.0.\n",
    "\n",
    "# Returns:\n",
    "# Series or DataFrame\n",
    "# Return type is the same as the original object with np.float64 dtype."
   ]
  },
  {
   "cell_type": "code",
   "execution_count": null,
   "metadata": {},
   "outputs": [
    {
     "data": {
      "text/plain": [
       "0    NaN\n",
       "1    NaN\n",
       "2    1.0\n",
       "3    2.0\n",
       "4    3.0\n",
       "dtype: float64"
      ]
     },
     "execution_count": 30,
     "metadata": {},
     "output_type": "execute_result"
    }
   ],
   "source": [
    "s = pd.Series([0, 1, 2, 3, 4])\n",
    "s.rolling(3).median()"
   ]
  },
  {
   "cell_type": "code",
   "execution_count": null,
   "metadata": {},
   "outputs": [],
   "source": [
    "# pandas.core.window.rolling.Window.sum\n",
    "# Window.sum(numeric_only=False, **kwargs)[source]\n",
    "# Calculate the rolling weighted window sum.\n",
    "\n",
    "# Parameters:\n",
    "# numeric_onlybool, default False\n",
    "# Include only float, int, boolean columns.\n",
    "\n",
    "# New in version 1.5.0.\n",
    "\n",
    "# **kwargs\n",
    "# Keyword arguments to configure the SciPy weighted window type.\n",
    "\n",
    "# Returns:\n",
    "# Series or DataFrame\n",
    "# Return type is the same as the original object with np.float64 dtype."
   ]
  },
  {
   "cell_type": "code",
   "execution_count": null,
   "metadata": {},
   "outputs": [
    {
     "data": {
      "text/plain": [
       "a         NaN\n",
       "b    2.958621\n",
       "c    4.931036\n",
       "d    6.903450\n",
       "dtype: float64"
      ]
     },
     "execution_count": 31,
     "metadata": {},
     "output_type": "execute_result"
    }
   ],
   "source": [
    "ser.rolling(2, win_type='gaussian').sum(std=3)"
   ]
  },
  {
   "cell_type": "code",
   "execution_count": null,
   "metadata": {},
   "outputs": [],
   "source": [
    "# Rolling.var(ddof=1, numeric_only=False, engine=None, engine_kwargs=None)[source]\n",
    "# Calculate the rolling variance.\n",
    "\n",
    "# Parameters:\n",
    "# ddofint, default 1\n",
    "# Delta Degrees of Freedom. The divisor used in calculations is N - ddof, where N represents the number of elements.\n",
    "\n",
    "# numeric_onlybool, default False\n",
    "# Include only float, int, boolean columns.\n",
    "\n",
    "# New in version 1.5.0.\n",
    "\n",
    "# enginestr, default None\n",
    "# 'cython' : Runs the operation through C-extensions from cython.\n",
    "\n",
    "# 'numba' : Runs the operation through JIT compiled code from numba.\n",
    "\n",
    "# None : Defaults to 'cython' or globally setting compute.use_numba\n",
    "\n",
    "# New in version 1.4.0.\n",
    "\n",
    "# engine_kwargsdict, default None\n",
    "# For 'cython' engine, there are no accepted engine_kwargs\n",
    "\n",
    "# For 'numba' engine, the engine can accept nopython, nogil and parallel dictionary keys. The values must either be True or False. The default engine_kwargs for the 'numba' engine is {'nopython': True, 'nogil': False, 'parallel': False}\n",
    "\n",
    "# New in version 1.4.0.\n",
    "\n",
    "# Returns:\n",
    "# Series or DataFrame\n",
    "# Return type is the same as the original object with np.float64 dtype."
   ]
  },
  {
   "cell_type": "code",
   "execution_count": null,
   "metadata": {},
   "outputs": [
    {
     "data": {
      "text/plain": [
       "0         NaN\n",
       "1         NaN\n",
       "2    0.333333\n",
       "3    1.000000\n",
       "4    1.000000\n",
       "5    1.333333\n",
       "6    0.000000\n",
       "dtype: float64"
      ]
     },
     "execution_count": 32,
     "metadata": {},
     "output_type": "execute_result"
    }
   ],
   "source": [
    "s = pd.Series([5, 5, 6, 7, 5, 5, 5])\n",
    "s.rolling(3).var()"
   ]
  },
  {
   "cell_type": "code",
   "execution_count": null,
   "metadata": {},
   "outputs": [],
   "source": [
    "# Rolling.skew(numeric_only=False)[source]\n",
    "# Calculate the rolling unbiased skewness.\n",
    "\n",
    "# Parameters:\n",
    "# numeric_onlybool, default False\n",
    "# Include only float, int, boolean columns.\n",
    "\n",
    "# New in version 1.5.0.\n",
    "\n",
    "# Returns:\n",
    "# Series or DataFrame\n",
    "# Return type is the same as the original object with np.float64 dtype.\n",
    "\n",
    "# See also\n",
    "\n",
    "# scipy.stats.skew\n",
    "# Third moment of a probability density.\n",
    "\n",
    "# pandas.Series.rolling\n",
    "# Calling rolling with Series data.\n",
    "\n",
    "# pandas.DataFrame.rolling\n",
    "# Calling rolling with DataFrames.\n",
    "\n",
    "# pandas.Series.skew\n",
    "# Aggregating skew for Series.\n",
    "\n",
    "# pandas.DataFrame.skew\n",
    "# Aggregating skew for DataFrame.\n",
    "\n",
    "# Notes\n",
    "\n",
    "# A minimum of three periods is required for the rolling calculation."
   ]
  },
  {
   "cell_type": "code",
   "execution_count": null,
   "metadata": {},
   "outputs": [
    {
     "data": {
      "text/plain": [
       "0         NaN\n",
       "1         NaN\n",
       "2    1.293343\n",
       "3   -0.585583\n",
       "4    0.670284\n",
       "5    1.652317\n",
       "dtype: float64"
      ]
     },
     "execution_count": 33,
     "metadata": {},
     "output_type": "execute_result"
    }
   ],
   "source": [
    "ser = pd.Series([1, 5, 2, 7, 15, 6])\n",
    "ser.rolling(3).skew().round(6)"
   ]
  },
  {
   "cell_type": "code",
   "execution_count": null,
   "metadata": {},
   "outputs": [],
   "source": [
    "# Rolling.aggregate(func, *args, **kwargs)[source]\n",
    "# Aggregate using one or more operations over the specified axis.\n",
    "\n",
    "# Parameters:\n",
    "# funcfunction, str, list or dict\n",
    "# Function to use for aggregating the data. If a function, must either work when passed a Series/Dataframe or when passed to Series/Dataframe.apply.\n",
    "\n",
    "# Accepted combinations are:\n",
    "\n",
    "# function\n",
    "\n",
    "# string function name\n",
    "\n",
    "# list of functions and/or function names, e.g. [np.sum, 'mean']\n",
    "\n",
    "# dict of axis labels -> functions, function names or list of such.\n",
    "\n",
    "# *args\n",
    "# Positional arguments to pass to func.\n",
    "\n",
    "# **kwargs\n",
    "# Keyword arguments to pass to func.\n",
    "\n",
    "# Returns:\n",
    "# scalar, Series or DataFrame\n",
    "# The return can be:\n",
    "\n",
    "# scalar : when Series.agg is called with single function\n",
    "\n",
    "# Series : when DataFrame.agg is called with a single function\n",
    "\n",
    "# DataFrame : when DataFrame.agg is called with several functions"
   ]
  },
  {
   "cell_type": "code",
   "execution_count": null,
   "metadata": {},
   "outputs": [
    {
     "data": {
      "text/html": [
       "<div>\n",
       "<style scoped>\n",
       "    .dataframe tbody tr th:only-of-type {\n",
       "        vertical-align: middle;\n",
       "    }\n",
       "\n",
       "    .dataframe tbody tr th {\n",
       "        vertical-align: top;\n",
       "    }\n",
       "\n",
       "    .dataframe thead th {\n",
       "        text-align: right;\n",
       "    }\n",
       "</style>\n",
       "<table border=\"1\" class=\"dataframe\">\n",
       "  <thead>\n",
       "    <tr style=\"text-align: right;\">\n",
       "      <th></th>\n",
       "      <th>A</th>\n",
       "      <th>B</th>\n",
       "      <th>C</th>\n",
       "    </tr>\n",
       "  </thead>\n",
       "  <tbody>\n",
       "    <tr>\n",
       "      <th>0</th>\n",
       "      <td>1</td>\n",
       "      <td>4</td>\n",
       "      <td>7</td>\n",
       "    </tr>\n",
       "    <tr>\n",
       "      <th>1</th>\n",
       "      <td>2</td>\n",
       "      <td>5</td>\n",
       "      <td>8</td>\n",
       "    </tr>\n",
       "    <tr>\n",
       "      <th>2</th>\n",
       "      <td>3</td>\n",
       "      <td>6</td>\n",
       "      <td>9</td>\n",
       "    </tr>\n",
       "  </tbody>\n",
       "</table>\n",
       "</div>"
      ],
      "text/plain": [
       "   A  B  C\n",
       "0  1  4  7\n",
       "1  2  5  8\n",
       "2  3  6  9"
      ]
     },
     "execution_count": 34,
     "metadata": {},
     "output_type": "execute_result"
    }
   ],
   "source": [
    "df = pd.DataFrame({\"A\": [1, 2, 3], \"B\": [4, 5, 6], \"C\": [7, 8, 9]})\n",
    "df"
   ]
  },
  {
   "cell_type": "code",
   "execution_count": null,
   "metadata": {},
   "outputs": [
    {
     "data": {
      "text/html": [
       "<div>\n",
       "<style scoped>\n",
       "    .dataframe tbody tr th:only-of-type {\n",
       "        vertical-align: middle;\n",
       "    }\n",
       "\n",
       "    .dataframe tbody tr th {\n",
       "        vertical-align: top;\n",
       "    }\n",
       "\n",
       "    .dataframe thead th {\n",
       "        text-align: right;\n",
       "    }\n",
       "</style>\n",
       "<table border=\"1\" class=\"dataframe\">\n",
       "  <thead>\n",
       "    <tr style=\"text-align: right;\">\n",
       "      <th></th>\n",
       "      <th>A</th>\n",
       "      <th>B</th>\n",
       "    </tr>\n",
       "  </thead>\n",
       "  <tbody>\n",
       "    <tr>\n",
       "      <th>0</th>\n",
       "      <td>NaN</td>\n",
       "      <td>NaN</td>\n",
       "    </tr>\n",
       "    <tr>\n",
       "      <th>1</th>\n",
       "      <td>3.0</td>\n",
       "      <td>4.0</td>\n",
       "    </tr>\n",
       "    <tr>\n",
       "      <th>2</th>\n",
       "      <td>5.0</td>\n",
       "      <td>5.0</td>\n",
       "    </tr>\n",
       "  </tbody>\n",
       "</table>\n",
       "</div>"
      ],
      "text/plain": [
       "     A    B\n",
       "0  NaN  NaN\n",
       "1  3.0  4.0\n",
       "2  5.0  5.0"
      ]
     },
     "execution_count": 35,
     "metadata": {},
     "output_type": "execute_result"
    }
   ],
   "source": [
    "df.rolling(2).agg({\"A\": \"sum\", \"B\": \"min\"})"
   ]
  },
  {
   "cell_type": "code",
   "execution_count": null,
   "metadata": {},
   "outputs": [],
   "source": [
    "# Rolling.kurt(numeric_only=False)[source]\n",
    "# Calculate the rolling Fisher’s definition of kurtosis without bias.\n",
    "\n",
    "# Parameters:\n",
    "# numeric_onlybool, default False\n",
    "# Include only float, int, boolean columns.\n",
    "\n",
    "# New in version 1.5.0.\n",
    "\n",
    "# Returns:\n",
    "# Series or DataFrame\n",
    "# Return type is the same as the original object with np.float64 dtype."
   ]
  },
  {
   "cell_type": "code",
   "execution_count": null,
   "metadata": {},
   "outputs": [
    {
     "data": {
      "text/plain": [
       "0         NaN\n",
       "1         NaN\n",
       "2         NaN\n",
       "3   -1.200000\n",
       "4    3.999946\n",
       "dtype: float64"
      ]
     },
     "execution_count": 37,
     "metadata": {},
     "output_type": "execute_result"
    }
   ],
   "source": [
    "arr = [1, 2, 3, 4, 999]\n",
    "s = pd.Series(arr)\n",
    "s.rolling(4).kurt()"
   ]
  },
  {
   "cell_type": "code",
   "execution_count": null,
   "metadata": {},
   "outputs": [],
   "source": [
    "# pandas.core.window.rolling.Rolling.max\n",
    "# Rolling.max(numeric_only=False, *args, engine=None, engine_kwargs=None, **kwargs)[source]\n",
    "# Calculate the rolling maximum.\n",
    "\n",
    "# Parameters:\n",
    "# numeric_onlybool, default False\n",
    "# Include only float, int, boolean columns.\n",
    "\n",
    "# New in version 1.5.0.\n",
    "\n",
    "# enginestr, default None\n",
    "# 'cython' : Runs the operation through C-extensions from cython.\n",
    "\n",
    "# 'numba' : Runs the operation through JIT compiled code from numba.\n",
    "\n",
    "# None : Defaults to 'cython' or globally setting compute.use_numba\n",
    "\n",
    "# New in version 1.3.0.\n",
    "\n",
    "# engine_kwargsdict, default None\n",
    "# For 'cython' engine, there are no accepted engine_kwargs\n",
    "\n",
    "# For 'numba' engine, the engine can accept nopython, nogil and parallel dictionary keys. The values must either be True or False. The default engine_kwargs for the 'numba' engine is {'nopython': True, 'nogil': False, 'parallel': False}\n",
    "\n",
    "# New in version 1.3.0.\n",
    "\n",
    "# Returns:\n",
    "# Series or DataFrame\n",
    "# Return type is the same as the original object with np.float64 dtype."
   ]
  },
  {
   "cell_type": "code",
   "execution_count": null,
   "metadata": {},
   "outputs": [
    {
     "data": {
      "text/plain": [
       "0    NaN\n",
       "1    2.0\n",
       "2    3.0\n",
       "3    4.0\n",
       "dtype: float64"
      ]
     },
     "execution_count": 38,
     "metadata": {},
     "output_type": "execute_result"
    }
   ],
   "source": [
    "ser = pd.Series([1, 2, 3, 4])\n",
    "ser.rolling(2).max()"
   ]
  },
  {
   "cell_type": "code",
   "execution_count": null,
   "metadata": {},
   "outputs": [],
   "source": [
    "# Rolling.min(numeric_only=False, engine=None, engine_kwargs=None)[source]\n",
    "# Calculate the rolling minimum.\n",
    "\n",
    "# Parameters:\n",
    "# numeric_onlybool, default False\n",
    "# Include only float, int, boolean columns.\n",
    "\n",
    "# New in version 1.5.0.\n",
    "\n",
    "# enginestr, default None\n",
    "# 'cython' : Runs the operation through C-extensions from cython.\n",
    "\n",
    "# 'numba' : Runs the operation through JIT compiled code from numba.\n",
    "\n",
    "# None : Defaults to 'cython' or globally setting compute.use_numba\n",
    "\n",
    "# New in version 1.3.0.\n",
    "\n",
    "# engine_kwargsdict, default None\n",
    "# For 'cython' engine, there are no accepted engine_kwargs\n",
    "\n",
    "# For 'numba' engine, the engine can accept nopython, nogil and parallel dictionary keys. The values must either be True or False. The default engine_kwargs for the 'numba' engine is {'nopython': True, 'nogil': False, 'parallel': False}\n",
    "\n",
    "# New in version 1.3.0.\n",
    "\n",
    "# Returns:\n",
    "# Series or DataFrame\n",
    "# Return type is the same as the original object with np.float64 dtype."
   ]
  },
  {
   "cell_type": "code",
   "execution_count": null,
   "metadata": {},
   "outputs": [
    {
     "data": {
      "text/plain": [
       "0    NaN\n",
       "1    NaN\n",
       "2    3.0\n",
       "3    2.0\n",
       "4    2.0\n",
       "dtype: float64"
      ]
     },
     "execution_count": 39,
     "metadata": {},
     "output_type": "execute_result"
    }
   ],
   "source": [
    "s = pd.Series([4, 3, 5, 2, 6])\n",
    "s.rolling(3).min()"
   ]
  },
  {
   "cell_type": "code",
   "execution_count": null,
   "metadata": {},
   "outputs": [],
   "source": [
    "# pandas.core.window.rolling.Rolling.skew\n",
    "# Rolling.skew(numeric_only=False)[source]\n",
    "# Calculate the rolling unbiased skewness.\n",
    "\n",
    "# Parameters:\n",
    "# numeric_onlybool, default False\n",
    "# Include only float, int, boolean columns.\n",
    "\n",
    "# Added in version 1.5.0.\n",
    "\n",
    "# Returns:\n",
    "# Series or DataFrame\n",
    "# # Return type is the same as the original object with np.float64 dtype."
   ]
  },
  {
   "cell_type": "code",
   "execution_count": null,
   "metadata": {},
   "outputs": [
    {
     "ename": "NameError",
     "evalue": "name 'pd' is not defined",
     "output_type": "error",
     "traceback": [
      "\u001b[1;31m---------------------------------------------------------------------------\u001b[0m",
      "\u001b[1;31mNameError\u001b[0m                                 Traceback (most recent call last)",
      "Cell \u001b[1;32mIn[1], line 1\u001b[0m\n\u001b[1;32m----> 1\u001b[0m ser \u001b[38;5;241m=\u001b[39m \u001b[43mpd\u001b[49m\u001b[38;5;241m.\u001b[39mSeries([\u001b[38;5;241m1\u001b[39m, \u001b[38;5;241m5\u001b[39m, \u001b[38;5;241m2\u001b[39m, \u001b[38;5;241m7\u001b[39m, \u001b[38;5;241m15\u001b[39m, \u001b[38;5;241m6\u001b[39m])\n\u001b[0;32m      2\u001b[0m ser\u001b[38;5;241m.\u001b[39mrolling(\u001b[38;5;241m3\u001b[39m)\u001b[38;5;241m.\u001b[39mskew()\u001b[38;5;241m.\u001b[39mround(\u001b[38;5;241m6\u001b[39m)\n",
      "\u001b[1;31mNameError\u001b[0m: name 'pd' is not defined"
     ]
    }
   ],
   "source": [
    "ser = pd.Series([1, 5, 2, 7, 15, 6])\n",
    "ser.rolling(3).skew().round(6)"
   ]
  },
  {
   "cell_type": "code",
   "execution_count": null,
   "metadata": {},
   "outputs": [],
   "source": [
    "# pandas.core.window.rolling.Rolling.std\n",
    "# Rolling.std(ddof=1, numeric_only=False, engine=None, engine_kwargs=None)[source]\n",
    "# Calculate the rolling standard deviation.\n",
    "\n",
    "# Parameters:\n",
    "# ddofint, default 1\n",
    "# Delta Degrees of Freedom. The divisor used in calculations is N - ddof, where N represents the number of elements.\n",
    "\n",
    "# numeric_onlybool, default False\n",
    "# Include only float, int, boolean columns.\n",
    "\n",
    "# Added in version 1.5.0.\n",
    "\n",
    "# enginestr, default None\n",
    "# 'cython' : Runs the operation through C-extensions from cython.\n",
    "\n",
    "# 'numba' : Runs the operation through JIT compiled code from numba.\n",
    "\n",
    "# None : Defaults to 'cython' or globally setting compute.use_numba\n",
    "\n",
    "# Added in version 1.4.0.\n",
    "\n",
    "# engine_kwargsdict, default None\n",
    "# For 'cython' engine, there are no accepted engine_kwargs\n",
    "\n",
    "# For 'numba' engine, the engine can accept nopython, nogil and parallel dictionary keys. The values must either be True or False. The default engine_kwargs for the 'numba' engine is {'nopython': True, 'nogil': False, 'parallel': False}\n",
    "\n",
    "# Added in version 1.4.0.\n",
    "\n",
    "# Returns:\n",
    "# Series or DataFrame\n",
    "# Return type is the same as the original object with np.float64 dtype"
   ]
  },
  {
   "cell_type": "code",
   "execution_count": 21,
   "metadata": {},
   "outputs": [
    {
     "data": {
      "text/plain": [
       "0         NaN\n",
       "1         NaN\n",
       "2    0.577350\n",
       "3    1.000000\n",
       "4    1.000000\n",
       "5    1.154701\n",
       "6    0.000000\n",
       "dtype: float64"
      ]
     },
     "execution_count": 21,
     "metadata": {},
     "output_type": "execute_result"
    }
   ],
   "source": [
    "s = pd.Series([5, 5, 6, 7, 5, 5, 5])\n",
    "s.rolling(3).std()"
   ]
  },
  {
   "cell_type": "code",
   "execution_count": null,
   "metadata": {},
   "outputs": [],
   "source": [
    "# pandas.core.window.rolling.Rolling.cov\n",
    "# Rolling.cov(other=None, pairwise=None, ddof=1, numeric_only=False)[source]\n",
    "# Calculate the rolling sample covariance.\n",
    "\n",
    "# Parameters:\n",
    "# otherSeries or DataFrame, optional\n",
    "# If not supplied then will default to self and produce pairwise output.\n",
    "\n",
    "# pairwisebool, default None\n",
    "# If False then only matching columns between self and other will be used and the output will be a DataFrame. If True then all pairwise combinations will be calculated and the output will be a MultiIndexed DataFrame in the case of DataFrame inputs. In the case of missing elements, only complete pairwise observations will be used.\n",
    "\n",
    "# ddofint, default 1\n",
    "# Delta Degrees of Freedom. The divisor used in calculations is N - ddof, where N represents the number of elements.\n",
    "\n",
    "# numeric_onlybool, default False\n",
    "# Include only float, int, boolean columns.\n",
    "\n",
    "# Added in version 1.5.0.\n",
    "\n",
    "# Returns:\n",
    "# Series or DataFrame\n",
    "# Return type is the same as the original object with np.float64 dtype."
   ]
  },
  {
   "cell_type": "code",
   "execution_count": 22,
   "metadata": {},
   "outputs": [
    {
     "data": {
      "text/plain": [
       "0    NaN\n",
       "1    1.5\n",
       "2    0.5\n",
       "3    1.5\n",
       "dtype: float64"
      ]
     },
     "execution_count": 22,
     "metadata": {},
     "output_type": "execute_result"
    }
   ],
   "source": [
    "ser1 = pd.Series([1, 2, 3, 4])\n",
    "ser2 = pd.Series([1, 4, 5, 8])\n",
    "ser1.rolling(2).cov(ser2)"
   ]
  },
  {
   "cell_type": "code",
   "execution_count": null,
   "metadata": {},
   "outputs": [],
   "source": [
    "# pandas.core.window.rolling.Rolling.corr\n",
    "# Rolling.corr(other=None, pairwise=None, ddof=1, numeric_only=False)[source]\n",
    "# Calculate the rolling correlation.\n",
    "\n",
    "# Parameters:\n",
    "# otherSeries or DataFrame, optional\n",
    "# If not supplied then will default to self and produce pairwise output.\n",
    "\n",
    "# pairwisebool, default None\n",
    "# If False then only matching columns between self and other will be used and the output will be a DataFrame. If True then all pairwise combinations will be calculated and the output will be a MultiIndexed DataFrame in the case of DataFrame inputs. In the case of missing elements, only complete pairwise observations will be used.\n",
    "\n",
    "# ddofint, default 1\n",
    "# Delta Degrees of Freedom. The divisor used in calculations is N - ddof, where N represents the number of elements.\n",
    "\n",
    "# numeric_onlybool, default False\n",
    "# Include only float, int, boolean columns.\n",
    "\n",
    "# Added in version 1.5.0.\n",
    "\n",
    "# Returns:\n",
    "# Series or DataFrame\n",
    "# Return type is the same as the original object with np.float64 dtype."
   ]
  },
  {
   "cell_type": "code",
   "execution_count": null,
   "metadata": {},
   "outputs": [],
   "source": [
    "# pandas.core.window.expanding.Expanding.count\n",
    "# Expanding.count(numeric_only=False)[source]\n",
    "# Calculate the expanding count of non NaN observations.\n",
    "\n",
    "# Returns\n",
    "# :\n",
    "# Series or DataFrame\n",
    "# Return type is the same as the original object with np.float64 dtype."
   ]
  },
  {
   "cell_type": "code",
   "execution_count": 24,
   "metadata": {},
   "outputs": [
    {
     "data": {
      "text/plain": [
       "a    1.0\n",
       "b    2.0\n",
       "c    3.0\n",
       "d    4.0\n",
       "dtype: float64"
      ]
     },
     "execution_count": 24,
     "metadata": {},
     "output_type": "execute_result"
    }
   ],
   "source": [
    "ser = pd.Series([1, 2, 3, 4], index=['a', 'b', 'c', 'd'])\n",
    "ser.expanding().count()"
   ]
  },
  {
   "cell_type": "code",
   "execution_count": null,
   "metadata": {},
   "outputs": [],
   "source": [
    "# pandas.core.window.rolling.Rolling.sem\n",
    "# Rolling.sem(ddof=1, numeric_only=False)[source]\n",
    "# Calculate the rolling standard error of mean.\n",
    "\n",
    "# Parameters:\n",
    "# ddofint, default 1\n",
    "# Delta Degrees of Freedom. The divisor used in calculations is N - ddof, where N represents the number of elements.\n",
    "\n",
    "# numeric_onlybool, default False\n",
    "# Include only float, int, boolean columns.\n",
    "\n",
    "# Added in version 1.5.0.\n",
    "\n",
    "# Returns:\n",
    "# Series or DataFrame\n",
    "# Return type is the same as the original object with np.float64 dtype."
   ]
  },
  {
   "cell_type": "code",
   "execution_count": 23,
   "metadata": {},
   "outputs": [
    {
     "data": {
      "text/plain": [
       "0         NaN\n",
       "1    0.707107\n",
       "2    0.707107\n",
       "3    0.707107\n",
       "dtype: float64"
      ]
     },
     "execution_count": 23,
     "metadata": {},
     "output_type": "execute_result"
    }
   ],
   "source": [
    "s = pd.Series([0, 1, 2, 3])\n",
    "s.rolling(2, min_periods=1).sem()\n"
   ]
  },
  {
   "cell_type": "code",
   "execution_count": null,
   "metadata": {},
   "outputs": [],
   "source": [
    "# pandas.core.window.ewm.ExponentialMovingWindow.mean\n",
    "# ExponentialMovingWindow.mean(numeric_only=False, engine=None, engine_kwargs=None)[source]\n",
    "# Calculate the ewm (exponential weighted moment) mean.\n",
    "\n",
    "# Parameters:\n",
    "# numeric_onlybool, default False\n",
    "# Include only float, int, boolean columns.\n",
    "\n",
    "# Added in version 1.5.0.\n",
    "\n",
    "# enginestr, default None\n",
    "# 'cython' : Runs the operation through C-extensions from cython.\n",
    "\n",
    "# 'numba' : Runs the operation through JIT compiled code from numba.\n",
    "\n",
    "# None : Defaults to 'cython' or globally setting compute.use_numba\n",
    "\n",
    "# Added in version 1.3.0.\n",
    "\n",
    "# engine_kwargsdict, default None\n",
    "# For 'cython' engine, there are no accepted engine_kwargs\n",
    "\n",
    "# For 'numba' engine, the engine can accept nopython, nogil and parallel dictionary keys. The values must either be True or False. The default engine_kwargs for the 'numba' engine is {'nopython': True, 'nogil': False, 'parallel': False}\n",
    "\n",
    "# Added in version 1.3.0.\n",
    "\n",
    "# Returns:\n",
    "# Series or DataFrame\n",
    "# Return type is the same as the original object with np.float64 dtype."
   ]
  },
  {
   "cell_type": "code",
   "execution_count": 25,
   "metadata": {},
   "outputs": [
    {
     "data": {
      "text/plain": [
       "0    1.000000\n",
       "1    1.555556\n",
       "2    2.147541\n",
       "3    2.775068\n",
       "dtype: float64"
      ]
     },
     "execution_count": 25,
     "metadata": {},
     "output_type": "execute_result"
    }
   ],
   "source": [
    "ser = pd.Series([1, 2, 3, 4])\n",
    "ser.ewm(alpha=.2).mean()\n"
   ]
  },
  {
   "cell_type": "code",
   "execution_count": null,
   "metadata": {},
   "outputs": [],
   "source": [
    "# pandas.core.window.rolling.Rolling.sem\n",
    "# Rolling.sem(ddof=1, numeric_only=False)[source]\n",
    "# Calculate the rolling standard error of mean.\n",
    "\n",
    "# Parameters:\n",
    "# ddofint, default 1\n",
    "# Delta Degrees of Freedom. The divisor used in calculations is N - ddof, where N represents the number of elements.\n",
    "\n",
    "# numeric_onlybool, default False\n",
    "# Include only float, int, boolean columns.\n",
    "\n",
    "# Added in version 1.5.0.\n",
    "\n",
    "# Returns:\n",
    "# Series or DataFrame\n",
    "# Return type is the same as the original object with np.float64 dtype.\n",
    "\n"
   ]
  },
  {
   "cell_type": "code",
   "execution_count": 26,
   "metadata": {},
   "outputs": [
    {
     "data": {
      "text/plain": [
       "0         NaN\n",
       "1    0.707107\n",
       "2    0.707107\n",
       "3    0.707107\n",
       "dtype: float64"
      ]
     },
     "execution_count": 26,
     "metadata": {},
     "output_type": "execute_result"
    }
   ],
   "source": [
    "s = pd.Series([0, 1, 2, 3])\n",
    "s.rolling(2, min_periods=1).sem()"
   ]
  },
  {
   "cell_type": "code",
   "execution_count": null,
   "metadata": {},
   "outputs": [],
   "source": [
    "# pandas.core.window.expanding.Expanding.sem\n",
    "# Expanding.sem(ddof=1, numeric_only=False)[source]\n",
    "# Calculate the expanding standard error of mean.\n",
    "\n",
    "# Parameters:\n",
    "# ddofint, default 1\n",
    "# Delta Degrees of Freedom. The divisor used in calculations is N - ddof, where N represents the number of elements.\n",
    "\n",
    "# numeric_onlybool, default False\n",
    "# Include only float, int, boolean columns.\n",
    "\n",
    "# Added in version 1.5.0.\n",
    "\n",
    "# Returns:\n",
    "# Series or DataFrame\n",
    "# Return type is the same as the original object with np.float64 dtype."
   ]
  },
  {
   "cell_type": "code",
   "execution_count": 27,
   "metadata": {},
   "outputs": [
    {
     "data": {
      "text/plain": [
       "0         NaN\n",
       "1    0.707107\n",
       "2    0.707107\n",
       "3    0.745356\n",
       "dtype: float64"
      ]
     },
     "execution_count": 27,
     "metadata": {},
     "output_type": "execute_result"
    }
   ],
   "source": [
    "s.expanding().sem()"
   ]
  },
  {
   "cell_type": "code",
   "execution_count": null,
   "metadata": {},
   "outputs": [],
   "source": [
    "# pandas.core.window.expanding.Expanding.max\n",
    "# Expanding.max(numeric_only=False, engine=None, engine_kwargs=None)[source]\n",
    "# Calculate the expanding maximum.\n",
    "\n",
    "# Parameters:\n",
    "# numeric_onlybool, default False\n",
    "# Include only float, int, boolean columns.\n",
    "\n",
    "# Added in version 1.5.0.\n",
    "\n",
    "# enginestr, default None\n",
    "# 'cython' : Runs the operation through C-extensions from cython.\n",
    "\n",
    "# 'numba' : Runs the operation through JIT compiled code from numba.\n",
    "\n",
    "# None : Defaults to 'cython' or globally setting compute.use_numba\n",
    "\n",
    "# Added in version 1.3.0.\n",
    "\n",
    "# engine_kwargsdict, default None\n",
    "# For 'cython' engine, there are no accepted engine_kwargs\n",
    "\n",
    "# For 'numba' engine, the engine can accept nopython, nogil and parallel dictionary keys. The values must either be True or False. The default engine_kwargs for the 'numba' engine is {'nopython': True, 'nogil': False, 'parallel': False}\n",
    "\n",
    "# Added in version 1.3.0.\n",
    "\n",
    "# Returns:\n",
    "# Series or DataFrame\n",
    "# Return type is the same as the original object with np.float64 dtype."
   ]
  },
  {
   "cell_type": "code",
   "execution_count": 28,
   "metadata": {},
   "outputs": [
    {
     "data": {
      "text/plain": [
       "a    3.0\n",
       "b    3.0\n",
       "c    3.0\n",
       "d    4.0\n",
       "dtype: float64"
      ]
     },
     "execution_count": 28,
     "metadata": {},
     "output_type": "execute_result"
    }
   ],
   "source": [
    "ser = pd.Series([3, 2, 1, 4], index=['a', 'b', 'c', 'd'])\n",
    "ser.expanding().max()"
   ]
  },
  {
   "cell_type": "code",
   "execution_count": null,
   "metadata": {},
   "outputs": [],
   "source": [
    "# ExponentialMovingWindow.sum(numeric_only=False, engine=None, engine_kwargs=None)[source]\n",
    "# Calculate the ewm (exponential weighted moment) sum.\n",
    "\n",
    "# Parameters:\n",
    "# numeric_onlybool, default False\n",
    "# Include only float, int, boolean columns.\n",
    "\n",
    "# Added in version 1.5.0.\n",
    "\n",
    "# enginestr, default None\n",
    "# 'cython' : Runs the operation through C-extensions from cython.\n",
    "\n",
    "# 'numba' : Runs the operation through JIT compiled code from numba.\n",
    "\n",
    "# None : Defaults to 'cython' or globally setting compute.use_numba\n",
    "\n",
    "# Added in version 1.3.0.\n",
    "\n",
    "# engine_kwargsdict, default None\n",
    "# For 'cython' engine, there are no accepted engine_kwargs\n",
    "\n",
    "# For 'numba' engine, the engine can accept nopython, nogil and parallel dictionary keys. The values must either be True or False. The default engine_kwargs for the 'numba' engine is {'nopython': True, 'nogil': False, 'parallel': False}\n",
    "\n",
    "# Added in version 1.3.0.\n",
    "\n",
    "# Returns:\n",
    "# Series or DataFrame\n",
    "# Return type is the same as the original object with np.float64 dtype."
   ]
  },
  {
   "cell_type": "code",
   "execution_count": 29,
   "metadata": {},
   "outputs": [
    {
     "data": {
      "text/plain": [
       "0    1.000\n",
       "1    2.800\n",
       "2    5.240\n",
       "3    8.192\n",
       "dtype: float64"
      ]
     },
     "execution_count": 29,
     "metadata": {},
     "output_type": "execute_result"
    }
   ],
   "source": [
    "ser = pd.Series([1, 2, 3, 4])\n",
    "ser.ewm(alpha=.2).sum()"
   ]
  },
  {
   "cell_type": "code",
   "execution_count": null,
   "metadata": {},
   "outputs": [],
   "source": [
    "    # pandas.DataFrame.idxmin\n",
    "    # DataFrame.idxmin(axis=0, skipna=True, numeric_only=False)[source]\n",
    "    # Return index of first occurrence of minimum over requested axis.\n",
    "\n",
    "    # NA/null values are excluded.\n",
    "\n",
    "    # Parameters:\n",
    "    # axis{0 or ‘index’, 1 or ‘columns’}, default 0\n",
    "    # The axis to use. 0 or ‘index’ for row-wise, 1 or ‘columns’ for column-wise.\n",
    "\n",
    "    # skipnabool, default True\n",
    "    # Exclude NA/null values. If an entire row/column is NA, the result will be NA.\n",
    "\n",
    "    # numeric_onlybool, default False\n",
    "    # Include only float, int or boolean data.\n",
    "\n",
    "    # Added in version 1.5.0.\n",
    "\n",
    "    # Returns:\n",
    "    # Series\n",
    "    # Indexes of minima along the specified axis.\n",
    "\n",
    "    # Raises:\n",
    "    # ValueError\n",
    "    # If the row/column is empty"
   ]
  },
  {
   "cell_type": "code",
   "execution_count": 31,
   "metadata": {},
   "outputs": [
    {
     "data": {
      "text/plain": [
       "0    0\n",
       "1    0\n",
       "2    0\n",
       "3    0\n",
       "4    0\n",
       "dtype: int64"
      ]
     },
     "execution_count": 31,
     "metadata": {},
     "output_type": "execute_result"
    }
   ],
   "source": [
    "df.idxmin(axis=\"columns\")"
   ]
  },
  {
   "cell_type": "code",
   "execution_count": null,
   "metadata": {},
   "outputs": [],
   "source": [
    "pandas.DataFrame.iloc\n",
    "property DataFrame.iloc[source]\n",
    "Purely integer-location based indexing for selection by position.\n",
    "\n",
    "Deprecated since version 2.2.0: Returning a tuple from a callable is deprecated.\n",
    "\n",
    ".iloc[] is primarily integer position based (from 0 to length-1 of the axis), but may also be used with a boolean array.\n",
    "\n",
    "Allowed inputs are:\n",
    "\n",
    "An integer, e.g. 5.\n",
    "\n",
    "A list or array of integers, e.g. [4, 3, 0].\n",
    "\n",
    "A slice object with ints, e.g. 1:7.\n",
    "\n",
    "A boolean array.\n",
    "\n",
    "A callable function with one argument (the calling Series or DataFrame) and that returns valid output for indexing (one of the above). This is useful in method chains, when you don’t have a reference to the calling object, but would like to base your selection on some value.\n",
    "\n",
    "A tuple of row and column indexes. The tuple elements consist of one of the above inputs, e.g. (0, 1).\n",
    "\n",
    ".iloc will raise IndexError if a requested indexer is out-of-bounds, except slice indexers which allow out-of-bounds indexing (this conforms with python/numpy slice semantics)."
   ]
  },
  {
   "cell_type": "code",
   "execution_count": 32,
   "metadata": {},
   "outputs": [
    {
     "data": {
      "text/html": [
       "<div>\n",
       "<style scoped>\n",
       "    .dataframe tbody tr th:only-of-type {\n",
       "        vertical-align: middle;\n",
       "    }\n",
       "\n",
       "    .dataframe tbody tr th {\n",
       "        vertical-align: top;\n",
       "    }\n",
       "\n",
       "    .dataframe thead th {\n",
       "        text-align: right;\n",
       "    }\n",
       "</style>\n",
       "<table border=\"1\" class=\"dataframe\">\n",
       "  <thead>\n",
       "    <tr style=\"text-align: right;\">\n",
       "      <th></th>\n",
       "      <th>a</th>\n",
       "      <th>b</th>\n",
       "      <th>c</th>\n",
       "      <th>d</th>\n",
       "    </tr>\n",
       "  </thead>\n",
       "  <tbody>\n",
       "    <tr>\n",
       "      <th>0</th>\n",
       "      <td>1</td>\n",
       "      <td>2</td>\n",
       "      <td>3</td>\n",
       "      <td>4</td>\n",
       "    </tr>\n",
       "    <tr>\n",
       "      <th>1</th>\n",
       "      <td>100</td>\n",
       "      <td>200</td>\n",
       "      <td>300</td>\n",
       "      <td>400</td>\n",
       "    </tr>\n",
       "    <tr>\n",
       "      <th>2</th>\n",
       "      <td>1000</td>\n",
       "      <td>2000</td>\n",
       "      <td>3000</td>\n",
       "      <td>4000</td>\n",
       "    </tr>\n",
       "  </tbody>\n",
       "</table>\n",
       "</div>"
      ],
      "text/plain": [
       "      a     b     c     d\n",
       "0     1     2     3     4\n",
       "1   100   200   300   400\n",
       "2  1000  2000  3000  4000"
      ]
     },
     "execution_count": 32,
     "metadata": {},
     "output_type": "execute_result"
    }
   ],
   "source": [
    "mydict = [{'a': 1, 'b': 2, 'c': 3, 'd': 4},\n",
    "          {'a': 100, 'b': 200, 'c': 300, 'd': 400},\n",
    "          {'a': 1000, 'b': 2000, 'c': 3000, 'd': 4000}]\n",
    "df = pd.DataFrame(mydict)\n",
    "df"
   ]
  },
  {
   "cell_type": "code",
   "execution_count": 33,
   "metadata": {},
   "outputs": [
    {
     "data": {
      "text/plain": [
       "pandas.core.series.Series"
      ]
     },
     "execution_count": 33,
     "metadata": {},
     "output_type": "execute_result"
    }
   ],
   "source": [
    "type(df.iloc[0])\n"
   ]
  },
  {
   "cell_type": "code",
   "execution_count": 34,
   "metadata": {},
   "outputs": [
    {
     "data": {
      "text/html": [
       "<div>\n",
       "<style scoped>\n",
       "    .dataframe tbody tr th:only-of-type {\n",
       "        vertical-align: middle;\n",
       "    }\n",
       "\n",
       "    .dataframe tbody tr th {\n",
       "        vertical-align: top;\n",
       "    }\n",
       "\n",
       "    .dataframe thead th {\n",
       "        text-align: right;\n",
       "    }\n",
       "</style>\n",
       "<table border=\"1\" class=\"dataframe\">\n",
       "  <thead>\n",
       "    <tr style=\"text-align: right;\">\n",
       "      <th></th>\n",
       "      <th>a</th>\n",
       "      <th>b</th>\n",
       "      <th>c</th>\n",
       "      <th>d</th>\n",
       "    </tr>\n",
       "  </thead>\n",
       "  <tbody>\n",
       "    <tr>\n",
       "      <th>0</th>\n",
       "      <td>1</td>\n",
       "      <td>2</td>\n",
       "      <td>3</td>\n",
       "      <td>4</td>\n",
       "    </tr>\n",
       "    <tr>\n",
       "      <th>1</th>\n",
       "      <td>100</td>\n",
       "      <td>200</td>\n",
       "      <td>300</td>\n",
       "      <td>400</td>\n",
       "    </tr>\n",
       "  </tbody>\n",
       "</table>\n",
       "</div>"
      ],
      "text/plain": [
       "     a    b    c    d\n",
       "0    1    2    3    4\n",
       "1  100  200  300  400"
      ]
     },
     "execution_count": 34,
     "metadata": {},
     "output_type": "execute_result"
    }
   ],
   "source": [
    "df.iloc[[0, 1]]"
   ]
  }
 ],
 "metadata": {
  "kernelspec": {
   "display_name": "Python 3",
   "language": "python",
   "name": "python3"
  },
  "language_info": {
   "codemirror_mode": {
    "name": "ipython",
    "version": 3
   },
   "file_extension": ".py",
   "mimetype": "text/x-python",
   "name": "python",
   "nbconvert_exporter": "python",
   "pygments_lexer": "ipython3",
   "version": "3.12.8"
  }
 },
 "nbformat": 4,
 "nbformat_minor": 2
}
