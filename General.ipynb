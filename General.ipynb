{
 "cells": [
  {
   "cell_type": "code",
   "execution_count": 1,
   "metadata": {},
   "outputs": [],
   "source": [
    "import pandas as pd\n",
    "import numpy as np"
   ]
  },
  {
   "cell_type": "code",
   "execution_count": 2,
   "metadata": {},
   "outputs": [
    {
     "data": {
      "text/plain": [
       "False"
      ]
     },
     "execution_count": 2,
     "metadata": {},
     "output_type": "execute_result"
    }
   ],
   "source": [
    "pd.isna('a')"
   ]
  },
  {
   "cell_type": "code",
   "execution_count": 3,
   "metadata": {},
   "outputs": [
    {
     "data": {
      "text/plain": [
       "False"
      ]
     },
     "execution_count": 3,
     "metadata": {},
     "output_type": "execute_result"
    }
   ],
   "source": [
    "# pandas.notnull(obj)[source]\n",
    "\n",
    "pd.notna(pd.NA)"
   ]
  },
  {
   "cell_type": "code",
   "execution_count": 4,
   "metadata": {},
   "outputs": [
    {
     "data": {
      "text/plain": [
       "0     True\n",
       "1    False\n",
       "Name: 1, dtype: bool"
      ]
     },
     "execution_count": 4,
     "metadata": {},
     "output_type": "execute_result"
    }
   ],
   "source": [
    "df = pd.DataFrame([['ant', 'bee', 'cat'], ['dog', None, 'fly']])\n",
    "df\n",
    "pd.notna(df[1])"
   ]
  },
  {
   "cell_type": "code",
   "execution_count": 5,
   "metadata": {},
   "outputs": [
    {
     "data": {
      "text/plain": [
       "PeriodIndex(['2017-01', '2017-02', '2017-03', '2017-04', '2017-05', '2017-06',\n",
       "             '2017-07', '2017-08', '2017-09', '2017-10', '2017-11', '2017-12',\n",
       "             '2018-01'],\n",
       "            dtype='period[M]')"
      ]
     },
     "execution_count": 5,
     "metadata": {},
     "output_type": "execute_result"
    }
   ],
   "source": [
    "pd.period_range(start='2017-01-01', end='2018-01-01', freq='M')"
   ]
  },
  {
   "cell_type": "code",
   "execution_count": 6,
   "metadata": {},
   "outputs": [],
   "source": [
    "# pandas.period_range(start=None, end=None, periods=None, freq=None, name=None)[source]\n"
   ]
  },
  {
   "cell_type": "code",
   "execution_count": 7,
   "metadata": {},
   "outputs": [
    {
     "data": {
      "text/plain": [
       "PeriodIndex(['2017-01', '2017-02', '2017-03', '2017-04', '2017-05', '2017-06',\n",
       "             '2017-07', '2017-08', '2017-09', '2017-10', '2017-11', '2017-12',\n",
       "             '2018-01'],\n",
       "            dtype='period[M]')"
      ]
     },
     "execution_count": 7,
     "metadata": {},
     "output_type": "execute_result"
    }
   ],
   "source": [
    "pd.period_range(start='2017-01-01', end='2018-01-01', freq='M')"
   ]
  },
  {
   "cell_type": "code",
   "execution_count": null,
   "metadata": {},
   "outputs": [],
   "source": []
  },
  {
   "cell_type": "code",
   "execution_count": 8,
   "metadata": {},
   "outputs": [
    {
     "data": {
      "text/plain": [
       "PeriodIndex(['2017-03', '2017-04', '2017-05', '2017-06'], dtype='period[M]')"
      ]
     },
     "execution_count": 8,
     "metadata": {},
     "output_type": "execute_result"
    }
   ],
   "source": [
    "pd.period_range(start=pd.Period('2017Q1', freq='Q'),\n",
    "                end=pd.Period('2017Q2', freq='Q'), freq='M')"
   ]
  },
  {
   "cell_type": "code",
   "execution_count": 9,
   "metadata": {},
   "outputs": [
    {
     "data": {
      "text/plain": [
       "array([2, 1, 3], dtype=int64)"
      ]
     },
     "execution_count": 9,
     "metadata": {},
     "output_type": "execute_result"
    }
   ],
   "source": [
    "# pandas.unique(values)\n",
    "pd.unique(pd.Series([2, 1, 3, 3]))"
   ]
  },
  {
   "cell_type": "code",
   "execution_count": 10,
   "metadata": {},
   "outputs": [
    {
     "data": {
      "text/plain": [
       "DatetimeIndex(['2016-01-01 00:00:00-05:00'], dtype='datetime64[ns, US/Eastern]', freq=None)"
      ]
     },
     "execution_count": 10,
     "metadata": {},
     "output_type": "execute_result"
    }
   ],
   "source": [
    "pd.unique(\n",
    "    pd.Index(\n",
    "        [\n",
    "            pd.Timestamp(\"20160101\", tz=\"US/Eastern\"),\n",
    "            pd.Timestamp(\"20160101\", tz=\"US/Eastern\"),\n",
    "        ]\n",
    "    )\n",
    ")"
   ]
  },
  {
   "cell_type": "code",
   "execution_count": 11,
   "metadata": {},
   "outputs": [
    {
     "data": {
      "text/plain": [
       "array(['b', 'a', 'c'], dtype=object)"
      ]
     },
     "execution_count": 11,
     "metadata": {},
     "output_type": "execute_result"
    }
   ],
   "source": [
    "pd.unique(np.array(list(\"baabc\"), dtype=\"O\"))"
   ]
  },
  {
   "cell_type": "code",
   "execution_count": 12,
   "metadata": {},
   "outputs": [
    {
     "data": {
      "text/plain": [
       "['b', 'a', 'c']\n",
       "Categories (3, object): ['a', 'b', 'c']"
      ]
     },
     "execution_count": 12,
     "metadata": {},
     "output_type": "execute_result"
    }
   ],
   "source": [
    "pd.unique(pd.Series(pd.Categorical(list(\"baabc\"), categories=list(\"abc\"))))\n",
    "# ['b', 'a', 'c']\n",
    "# Categories (3, object): ['a', 'b', 'c']\n"
   ]
  },
  {
   "cell_type": "code",
   "execution_count": 13,
   "metadata": {},
   "outputs": [
    {
     "data": {
      "text/plain": [
       "'D'"
      ]
     },
     "execution_count": 13,
     "metadata": {},
     "output_type": "execute_result"
    }
   ],
   "source": [
    "idx = pd.date_range(start='2020/12/01', end='2020/12/30', periods=30)\n",
    "pd.infer_freq(idx)"
   ]
  },
  {
   "cell_type": "code",
   "execution_count": null,
   "metadata": {},
   "outputs": [],
   "source": [
    "# pandas.infer_freq\n",
    "# pandas.infer_freq(index)[source]\n",
    "# Infer the most likely frequency given the input index.\n",
    "\n",
    "# Parameters\n",
    "# :\n",
    "# index\n",
    "# DatetimeIndex, TimedeltaIndex, Series or array-like\n",
    "# If passed a Series will use the values of the series (NOT THE INDEX).\n",
    "\n",
    "# Returns\n",
    "# :\n",
    "# str or None\n",
    "# None if no discernible frequency.\n",
    "\n",
    "# Raises\n",
    "# :\n",
    "# TypeError\n",
    "# If the index is not datetime-like.\n",
    "\n",
    "# ValueError\n",
    "# If there are fewer than three values."
   ]
  },
  {
   "cell_type": "code",
   "execution_count": 14,
   "metadata": {},
   "outputs": [
    {
     "data": {
      "text/plain": [
       "'D'"
      ]
     },
     "execution_count": 14,
     "metadata": {},
     "output_type": "execute_result"
    }
   ],
   "source": [
    "idx = pd.date_range(start='2020/12/01', end='2020/12/30', periods=30)\n",
    "pd.infer_freq(idx)"
   ]
  },
  {
   "cell_type": "code",
   "execution_count": null,
   "metadata": {},
   "outputs": [],
   "source": [
    "# pandas.util.hash_array\n",
    "# pandas.util.hash_array(vals, encoding='utf8', hash_key='0123456789123456', categorize=True)[source]\n",
    "# Given a 1d array, return an array of deterministic integers.\n",
    "\n",
    "# Parameters\n",
    "# :\n",
    "# vals\n",
    "# ndarray or ExtensionArray\n",
    "# encoding\n",
    "# str, default ‘utf8’\n",
    "# Encoding for data & key when strings.\n",
    "\n",
    "# hash_key\n",
    "# str, default _default_hash_key\n",
    "# Hash_key for string key to encode.\n",
    "\n",
    "# categorize\n",
    "# bool, default True\n",
    "# Whether to first categorize object arrays before hashing. This is more efficient when the array contains duplicate values.\n",
    "\n",
    "# Returns\n",
    "# :\n",
    "# ndarray[np.uint64, ndim=1]\n",
    "# Hashed values, same length as the vals."
   ]
  },
  {
   "cell_type": "code",
   "execution_count": 15,
   "metadata": {},
   "outputs": [
    {
     "data": {
      "text/plain": [
       "array([ 6238072747940578789, 15839785061582574730,  2185194620014831856],\n",
       "      dtype=uint64)"
      ]
     },
     "execution_count": 15,
     "metadata": {},
     "output_type": "execute_result"
    }
   ],
   "source": [
    "pd.util.hash_array(np.array([1, 2, 3]))"
   ]
  },
  {
   "cell_type": "code",
   "execution_count": null,
   "metadata": {},
   "outputs": [],
   "source": [
    "# pandas.api.interchange.from_dataframe\n",
    "# pandas.api.interchange.from_dataframe(df, allow_copy=True)[source]\n",
    "# Build a pd.DataFrame from any DataFrame supporting the interchange protocol.\n",
    "\n",
    "# Parameters\n",
    "# :\n",
    "# df\n",
    "# DataFrameXchg\n",
    "# Object supporting the interchange protocol, i.e. __dataframe__ method.\n",
    "\n",
    "# allow_copy\n",
    "# bool, default: True\n",
    "# Whether to allow copying the memory to perform the conversion (if false then zero-copy approach is requested).\n",
    "\n",
    "# Returns\n",
    "# :\n",
    "# pd.DataFrame"
   ]
  },
  {
   "cell_type": "code",
   "execution_count": 17,
   "metadata": {},
   "outputs": [
    {
     "data": {
      "text/plain": [
       "<pandas.core.interchange.dataframe.PandasDataFrameXchg at 0x21dee6d24e0>"
      ]
     },
     "execution_count": 17,
     "metadata": {},
     "output_type": "execute_result"
    }
   ],
   "source": [
    "df_not_necessarily_pandas = pd.DataFrame({'A': [1, 2], 'B': [3, 4]})\n",
    "interchange_object = df_not_necessarily_pandas.__dataframe__()\n",
    "interchange_object.column_names()\n",
    "# Index(['A', 'B'], dtype='object')\n",
    "df_pandas = (pd.api.interchange.from_dataframe\n",
    "             (interchange_object.select_columns_by_name(['A'])))\n",
    "interchange_object"
   ]
  },
  {
   "cell_type": "code",
   "execution_count": null,
   "metadata": {},
   "outputs": [],
   "source": [
    "# pandas.interval_range\n",
    "# pandas.interval_range(start=None, end=None, periods=None, freq=None, name=None, closed='right')[source]\n",
    "# Return a fixed frequency IntervalIndex.\n",
    "\n",
    "# Parameters\n",
    "# :\n",
    "# start\n",
    "# numeric or datetime-like, default None\n",
    "# Left bound for generating intervals.\n",
    "\n",
    "# end\n",
    "# numeric or datetime-like, default None\n",
    "# Right bound for generating intervals.\n",
    "\n",
    "# periods\n",
    "# int, default None\n",
    "# Number of periods to generate.\n",
    "\n",
    "# freq\n",
    "# numeric, str, Timedelta, datetime.timedelta, or DateOffset, default None\n",
    "# The length of each interval. Must be consistent with the type of start and end, e.g. 2 for numeric, or ‘5H’ for datetime-like. Default is 1 for numeric and ‘D’ for datetime-like.\n",
    "\n",
    "# name\n",
    "# str, default None\n",
    "# Name of the resulting IntervalIndex.\n",
    "\n",
    "# closed\n",
    "# {‘left’, ‘right’, ‘both’, ‘neither’}, default ‘right’\n",
    "# Whether the intervals are closed on the left-side, right-side, both or neither."
   ]
  },
  {
   "cell_type": "code",
   "execution_count": 19,
   "metadata": {},
   "outputs": [
    {
     "data": {
      "text/plain": [
       "IntervalIndex([(2017-01-01 00:00:00, 2017-02-01 00:00:00],\n",
       "               (2017-02-01 00:00:00, 2017-03-01 00:00:00],\n",
       "               (2017-03-01 00:00:00, 2017-04-01 00:00:00]],\n",
       "              dtype='interval[datetime64[ns], right]', name='time')"
      ]
     },
     "execution_count": 19,
     "metadata": {},
     "output_type": "execute_result"
    }
   ],
   "source": [
    "pd.interval_range(start=pd.Timestamp('2017-01-01'),\n",
    "                  periods=3, freq='MS',name=\"time\")"
   ]
  },
  {
   "cell_type": "code",
   "execution_count": 21,
   "metadata": {},
   "outputs": [],
   "source": [
    "# time"
   ]
  },
  {
   "cell_type": "code",
   "execution_count": 23,
   "metadata": {},
   "outputs": [
    {
     "data": {
      "text/plain": [
       "'%m/%d/%Y'"
      ]
     },
     "execution_count": 23,
     "metadata": {},
     "output_type": "execute_result"
    }
   ],
   "source": [
    "# pandas.tseries.api.guess_datetime_format\n",
    "# pandas.tseries.api.guess_datetime_format(dt_str, dayfirst=False)\n",
    "# Guess the datetime format of a given datetime string.\n",
    "\n",
    "# Parameters:\n",
    "# dt_strstr\n",
    "# Datetime string to guess the format of.\n",
    "\n",
    "# dayfirstbool, default False\n",
    "# If True parses dates with the day first, eg 20/01/2005\n",
    "\n",
    "# Warning\n",
    "\n",
    "# dayfirst=True is not strict, but will prefer to parse with day first (this is a known bug).\n",
    "\n",
    "# Returns:\n",
    "# str or None\n",
    "# ret\n",
    "# datetime format string (for strftime or strptime), or None if it can’t be guessed.\n",
    "\n",
    "# Examples\n",
    "\n",
    "from pandas.tseries.api import guess_datetime_format\n",
    "guess_datetime_format('09/13/2023')"
   ]
  },
  {
   "cell_type": "code",
   "execution_count": null,
   "metadata": {},
   "outputs": [],
   "source": [
    "# pandas.lreshape\n",
    "# pandas.lreshape(data, groups, dropna=True)[source]\n",
    "# Reshape wide-format data to long. Generalized inverse of DataFrame.pivot.\n",
    "\n",
    "# Accepts a dictionary, groups, in which each key is a new column name and each value is a list of old column names that will be “melted” under the new column name as part of the reshape.\n",
    "\n",
    "# Parameters\n",
    "# :\n",
    "# data\n",
    "# DataFrame\n",
    "# The wide-format DataFrame.\n",
    "\n",
    "# groups\n",
    "# dict\n",
    "# {new_name : list_of_columns}.\n",
    "\n",
    "# dropna\n",
    "# bool, default True\n",
    "# Do not include columns whose entries are all NaN.\n",
    "\n",
    "# Returns\n",
    "# :\n",
    "# DataFrame\n",
    "# Reshaped DataFrame"
   ]
  },
  {
   "cell_type": "code",
   "execution_count": 25,
   "metadata": {},
   "outputs": [
    {
     "data": {
      "text/html": [
       "<div>\n",
       "<style scoped>\n",
       "    .dataframe tbody tr th:only-of-type {\n",
       "        vertical-align: middle;\n",
       "    }\n",
       "\n",
       "    .dataframe tbody tr th {\n",
       "        vertical-align: top;\n",
       "    }\n",
       "\n",
       "    .dataframe thead th {\n",
       "        text-align: right;\n",
       "    }\n",
       "</style>\n",
       "<table border=\"1\" class=\"dataframe\">\n",
       "  <thead>\n",
       "    <tr style=\"text-align: right;\">\n",
       "      <th></th>\n",
       "      <th>team</th>\n",
       "      <th>year</th>\n",
       "      <th>hr</th>\n",
       "    </tr>\n",
       "  </thead>\n",
       "  <tbody>\n",
       "    <tr>\n",
       "      <th>0</th>\n",
       "      <td>Red Sox</td>\n",
       "      <td>2007</td>\n",
       "      <td>514</td>\n",
       "    </tr>\n",
       "    <tr>\n",
       "      <th>1</th>\n",
       "      <td>Yankees</td>\n",
       "      <td>2007</td>\n",
       "      <td>573</td>\n",
       "    </tr>\n",
       "    <tr>\n",
       "      <th>2</th>\n",
       "      <td>Red Sox</td>\n",
       "      <td>2008</td>\n",
       "      <td>545</td>\n",
       "    </tr>\n",
       "    <tr>\n",
       "      <th>3</th>\n",
       "      <td>Yankees</td>\n",
       "      <td>2008</td>\n",
       "      <td>526</td>\n",
       "    </tr>\n",
       "  </tbody>\n",
       "</table>\n",
       "</div>"
      ],
      "text/plain": [
       "      team  year   hr\n",
       "0  Red Sox  2007  514\n",
       "1  Yankees  2007  573\n",
       "2  Red Sox  2008  545\n",
       "3  Yankees  2008  526"
      ]
     },
     "execution_count": 25,
     "metadata": {},
     "output_type": "execute_result"
    }
   ],
   "source": [
    "data = pd.DataFrame({'hr1': [514, 573], 'hr2': [545, 526],\n",
    "                     'team': ['Red Sox', 'Yankees'],\n",
    "                     'year1': [2007, 2007], 'year2': [2008, 2008]})\n",
    "data\n",
    "pd.lreshape(data,{'year':['year1','year2'],'hr':['hr1','hr2']})"
   ]
  }
 ],
 "metadata": {
  "kernelspec": {
   "display_name": "Python 3",
   "language": "python",
   "name": "python3"
  },
  "language_info": {
   "codemirror_mode": {
    "name": "ipython",
    "version": 3
   },
   "file_extension": ".py",
   "mimetype": "text/x-python",
   "name": "python",
   "nbconvert_exporter": "python",
   "pygments_lexer": "ipython3",
   "version": "3.12.6"
  }
 },
 "nbformat": 4,
 "nbformat_minor": 2
}
